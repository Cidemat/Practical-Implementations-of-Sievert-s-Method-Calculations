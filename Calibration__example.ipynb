{
  "nbformat": 4,
  "nbformat_minor": 0,
  "metadata": {
    "colab": {
      "provenance": [],
      "authorship_tag": "ABX9TyM7CFcnXdqcq85h2BN70oCw",
      "include_colab_link": true
    },
    "kernelspec": {
      "name": "python3",
      "display_name": "Python 3"
    },
    "language_info": {
      "name": "python"
    }
  },
  "cells": [
    {
      "cell_type": "markdown",
      "metadata": {
        "id": "view-in-github",
        "colab_type": "text"
      },
      "source": [
        "<a href=\"https://colab.research.google.com/github/AJAV-TIP/ApplicationExample/blob/main/Calibration__example.ipynb\" target=\"_parent\"><img src=\"https://colab.research.google.com/assets/colab-badge.svg\" alt=\"Open In Colab\"/></a>"
      ]
    },
    {
      "cell_type": "markdown",
      "source": [
        "#Example of calibration using a known volume"
      ],
      "metadata": {
        "id": "-V2OFm--HJfq"
      }
    },
    {
      "cell_type": "markdown",
      "source": [
        "Import common libraries"
      ],
      "metadata": {
        "id": "pYHikPHdHYJ-"
      }
    },
    {
      "cell_type": "code",
      "execution_count": 1,
      "metadata": {
        "id": "iqtpXq57X45A",
        "colab": {
          "base_uri": "https://localhost:8080/"
        },
        "outputId": "b965c4ec-0021-49e8-ac18-d61e495597f0"
      },
      "outputs": [
        {
          "output_type": "stream",
          "name": "stdout",
          "text": [
            "Requirement already satisfied: scikit-learn in /usr/local/lib/python3.10/dist-packages (1.5.0)\n",
            "Requirement already satisfied: numpy>=1.19.5 in /usr/local/lib/python3.10/dist-packages (from scikit-learn) (1.25.2)\n",
            "Requirement already satisfied: scipy>=1.6.0 in /usr/local/lib/python3.10/dist-packages (from scikit-learn) (1.11.4)\n",
            "Requirement already satisfied: joblib>=1.2.0 in /usr/local/lib/python3.10/dist-packages (from scikit-learn) (1.4.2)\n",
            "Requirement already satisfied: threadpoolctl>=3.1.0 in /usr/local/lib/python3.10/dist-packages (from scikit-learn) (3.5.0)\n"
          ]
        }
      ],
      "source": [
        "import numpy as np\n",
        "import pandas as pd\n",
        "import matplotlib.pylab as plt\n",
        "\n",
        "!pip install -U scikit-learn\n",
        "from sklearn.metrics import r2_score"
      ]
    },
    {
      "cell_type": "markdown",
      "source": [
        "Import library to obtain compressibility factor or other thermodynamic properties from an Equation of State (EoS)"
      ],
      "metadata": {
        "id": "d5O2tOwi2lqx"
      }
    },
    {
      "cell_type": "code",
      "source": [
        "!pip install CoolProp\n",
        "import CoolProp.CoolProp as CP"
      ],
      "metadata": {
        "id": "MB-O8zJLMeI3",
        "colab": {
          "base_uri": "https://localhost:8080/"
        },
        "outputId": "5fb784b2-970d-4b1f-985b-138c1bc87dab"
      },
      "execution_count": 2,
      "outputs": [
        {
          "output_type": "stream",
          "name": "stdout",
          "text": [
            "Requirement already satisfied: CoolProp in /usr/local/lib/python3.10/dist-packages (6.6.0)\n"
          ]
        }
      ]
    },
    {
      "cell_type": "markdown",
      "source": [
        "  Read pressure sensor data from a CSV file hosted in a public GitHub repository and store it in the objects `Pf` (Final Pressure) and `Pi` (Initial Pressure)"
      ],
      "metadata": {
        "id": "x0MuevXB3bjd"
      }
    },
    {
      "cell_type": "code",
      "source": [
        "urlWKV = ('https://raw.githubusercontent.com/AJAV-TIP/ApplicationExample/main/CalData_with_known_volume.csv')\n",
        "urlSV = ('https://raw.githubusercontent.com/AJAV-TIP/ApplicationExample/main/CalData_without_known_volume.csv')\n",
        "dfWKV = pd.read_csv(urlWKV) # data frame for the measurements with known volume\n",
        "dfSV = pd.read_csv(urlSV) #data frame for the  system volume mesurements"
      ],
      "metadata": {
        "id": "HYRWsjTZwnv4"
      },
      "execution_count": 3,
      "outputs": []
    },
    {
      "cell_type": "markdown",
      "source": [
        "Describe the known volume"
      ],
      "metadata": {
        "id": "WU2uQp4BUdLM"
      }
    },
    {
      "cell_type": "code",
      "source": [
        "n = 3 # number of elements (3 spheres)\n",
        "r = 0.4625/2 # sphere diameter\n",
        "Vesf = 4/3*np.pi*r**3\n",
        "Vk = 3*Vesf # Known volume\n",
        "Vk"
      ],
      "metadata": {
        "id": "_mqzFfIEUmF6",
        "colab": {
          "base_uri": "https://localhost:8080/"
        },
        "outputId": "89544851-9d23-4449-af0b-364dccb6b687"
      },
      "execution_count": 4,
      "outputs": [
        {
          "output_type": "execute_result",
          "data": {
            "text/plain": [
              "0.15540145769754277"
            ]
          },
          "metadata": {},
          "execution_count": 4
        }
      ]
    },
    {
      "cell_type": "markdown",
      "source": [
        "Calculate compresibility factors"
      ],
      "metadata": {
        "id": "OkLPVDtAYTK4"
      }
    },
    {
      "cell_type": "code",
      "source": [
        "dfZSV = pd.DataFrame(index=range(len(dfSV)),columns=['Zi_ref','Zeq_ref', 'Zeq_ana',\t'Zi_ana'])\n",
        "dfZWKV = pd.DataFrame(index=range(len(dfWKV)),columns=['Zi_ref','Zeq_ref', 'Zeq_ana',\t'Zi_ana'])\n",
        "\n",
        "for i in range(0,len(dfWKV)):\n",
        "  dfZSV.Zi_ref[i] = (CP.PropsSI('Z', 'T', dfSV.Tref[i] , 'P', dfSV.Pi_Vref[i]*1e6, 'Hydrogen'))\n",
        "  dfZSV.Zeq_ref[i] = (CP.PropsSI('Z', 'T', dfSV.Tref[i] , 'P', dfSV.Peq_Vtotal[i]*1e6, 'Hydrogen'))\n",
        "  dfZSV.Zeq_ana[i] = (CP.PropsSI('Z', 'T', dfSV.Tana[i] , 'P', dfSV.Peq_Vtotal[i]*1e6, 'Hydrogen'))\n",
        "  dfZSV.Zi_ana[i] = (CP.PropsSI('Z', 'T', dfSV.Tana[i] , 'P', dfSV.Pi_Vana[i]*1e6, 'Hydrogen'))\n",
        "\n",
        "  dfZWKV.Zi_ref[i] = (CP.PropsSI('Z', 'T', dfWKV.Tref[i] , 'P', dfWKV.Pi_Vref[i]*1e6, 'Hydrogen'))\n",
        "  dfZWKV.Zeq_ref[i] = (CP.PropsSI('Z', 'T', dfWKV.Tref[i] , 'P', dfWKV.Peq_Vtotal[i]*1e6, 'Hydrogen'))\n",
        "  dfZWKV.Zeq_ana[i] = (CP.PropsSI('Z', 'T', dfWKV.Tana[i] , 'P', dfWKV.Peq_Vtotal[i]*1e6, 'Hydrogen'))\n",
        "  dfZWKV.Zi_ana[i] = (CP.PropsSI('Z', 'T', dfWKV.Tana[i] , 'P', dfWKV.Pi_Vana[i]*1e6, 'Hydrogen'))"
      ],
      "metadata": {
        "id": "1Z8tGvj9Y0II",
        "collapsed": true
      },
      "execution_count": 5,
      "outputs": []
    },
    {
      "cell_type": "markdown",
      "source": [
        "Calculate X and Y vectors"
      ],
      "metadata": {
        "id": "2mpfnlrMpImr"
      }
    },
    {
      "cell_type": "code",
      "source": [
        "dfXYSV = pd.DataFrame(index=range(len(dfSV)),columns=['X','Y'])\n",
        "dfXYWKV = pd.DataFrame(index=range(len(dfWKV)),columns=['X','Y'])\n",
        "\n",
        "for i in range(0,len(dfWKV)):\n",
        "  dfXYSV.X[i] = ((1/dfSV.Tana[i])*((dfSV.Peq_Vtotal[i]/dfZSV.Zeq_ana[i])-(dfSV.Pi_Vana[i]/dfZSV.Zi_ana[i])))\n",
        "  dfXYSV.Y[i] = ((1/dfSV.Tref[i])*((dfSV.Pi_Vref[i]/dfZSV.Zi_ref[i])-(dfSV.Peq_Vtotal[i]/dfZSV.Zeq_ref[i])))\n",
        "\n",
        "  dfXYWKV.X[i] = ((1/dfWKV.Tana[i])*((dfWKV.Peq_Vtotal[i]/dfZWKV.Zeq_ana[i])-(dfWKV.Pi_Vana[i]/dfZWKV.Zi_ana[i])))\n",
        "  dfXYWKV.Y[i] = ((1/dfWKV.Tref[i])*((dfWKV.Pi_Vref[i]/dfZWKV.Zi_ref[i])-(dfWKV.Peq_Vtotal[i]/dfZWKV.Zeq_ref[i])))\n"
      ],
      "metadata": {
        "id": "EJkDdpkadhi9"
      },
      "execution_count": 6,
      "outputs": []
    },
    {
      "cell_type": "markdown",
      "source": [
        "calculate K parameters and determinarion coefficients"
      ],
      "metadata": {
        "id": "E44Fbl4ltVfi"
      }
    },
    {
      "cell_type": "code",
      "source": [
        "KSV = np.sum(dfXYSV.X*dfXYSV.Y)/np.sum(dfXYSV.X**2)\n",
        "KWSV = np.sum(dfXYWKV.X*dfXYWKV.Y)/np.sum(dfXYWKV.X**2)\n",
        "R2SV = r2_score(dfXYSV.Y,dfXYSV.X*KSV)\n",
        "R2WKV = r2_score(dfXYWKV.Y,dfXYWKV.X*KWSV)"
      ],
      "metadata": {
        "id": "Q9XZNYhL0JPc"
      },
      "execution_count": 7,
      "outputs": []
    },
    {
      "cell_type": "markdown",
      "source": [
        "Calculate calibrated refrence volume"
      ],
      "metadata": {
        "id": "VSGzAxJK77G3"
      }
    },
    {
      "cell_type": "code",
      "source": [
        "Vref = Vk/(KSV-KWSV)\n",
        "Vref # mL"
      ],
      "metadata": {
        "colab": {
          "base_uri": "https://localhost:8080/"
        },
        "id": "-OyW6RNg7YHt",
        "outputId": "68c9472f-8ad8-427c-ad0b-ced9adf590fa"
      },
      "execution_count": 8,
      "outputs": [
        {
          "output_type": "execute_result",
          "data": {
            "text/plain": [
              "154.72133855469812"
            ]
          },
          "metadata": {},
          "execution_count": 8
        }
      ]
    },
    {
      "cell_type": "markdown",
      "source": [
        "Calculate volume of sample cell"
      ],
      "metadata": {
        "id": "8j3xYobQ8CBm"
      }
    },
    {
      "cell_type": "code",
      "source": [
        "Vana = Vref * KSV\n",
        "Vana # mL"
      ],
      "metadata": {
        "colab": {
          "base_uri": "https://localhost:8080/"
        },
        "id": "bL_QNhg28MGF",
        "outputId": "bbf184db-67cc-418e-b4f9-0b744002c836"
      },
      "execution_count": 9,
      "outputs": [
        {
          "output_type": "execute_result",
          "data": {
            "text/plain": [
              "5.037877889252887"
            ]
          },
          "metadata": {},
          "execution_count": 9
        }
      ]
    },
    {
      "cell_type": "markdown",
      "source": [
        "Show the calibraion figure"
      ],
      "metadata": {
        "id": "rGcFbawirKag"
      }
    },
    {
      "cell_type": "code",
      "source": [
        "\n",
        "fig, (ax1, ax2) = plt.subplots(1, 2, figsize=(10, 4))  # 1 fila, 2 columnas\n",
        "\n",
        "\n",
        "ax1.set_title('Without Known Volume')\n",
        "ax1.set_xlabel('X * $10^3$')\n",
        "ax1.set_ylabel('Y * $10^4$')\n",
        "ax1.text(0.5, 0.9, f'$R^2$: {R2SV:.2f}', transform=ax1.transAxes)\n",
        "\n",
        "ax2.set_title('With Known Volume')\n",
        "ax2.set_xlabel('X * $10^3$')\n",
        "ax2.set_ylabel('Y * $10^4$')\n",
        "ax2.text(0.5, 0.9, f'$R^2$: {R2WKV:.2f}', transform=ax2.transAxes)\n",
        "\n",
        "ax1.plot(dfXYSV['X']*1000,dfXYSV['Y']*10000,'ro',dfXYSV['X']*1000,dfXYSV['X']*10000*KSV,'k-')\n",
        "ax2.plot(dfXYWKV['X']*1000,dfXYWKV['Y']*10000,'ro', dfXYWKV['X']*1000, dfXYWKV['X']*10000*KWSV, 'k-')\n",
        "\n",
        "plt.show()\n"
      ],
      "metadata": {
        "colab": {
          "base_uri": "https://localhost:8080/",
          "height": 415
        },
        "id": "iet6dxFe9SyX",
        "outputId": "d20d5adb-af57-4c21-da9e-f63f5ae1e176"
      },
      "execution_count": 10,
      "outputs": [
        {
          "output_type": "display_data",
          "data": {
            "text/plain": [
              "<Figure size 1000x400 with 2 Axes>"
            ],
            "image/png": "[encoded data removed]"
          },
          "metadata": {}
        }
      ]
    },
    {
      "cell_type": "code",
      "source": [],
      "metadata": {
        "id": "zvHwTenQsoQn"
      },
      "execution_count": 10,
      "outputs": []
    }
  ]
}